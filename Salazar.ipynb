{
 "cells": [
  {
   "cell_type": "code",
   "execution_count": 4,
   "metadata": {},
   "outputs": [],
   "source": [
    "# dependencies\n",
    "\"\"\"\n",
    "Numpy: matrix manipulation and math\n",
    "Pandas: csv parsing and various data structure tasks\n",
    "Mathpltlib.pyplot: data visualization\n",
    "set_trace: debug breaks\n",
    "\"\"\"\n",
    "from copy import deepcopy as copy\n",
    "from IPython.core.debugger import set_trace\n",
    "\n",
    "import numpy as np\n",
    "import pandas as pd\n",
    "import matplotlib.pyplot as plt \n",
    "import os\n",
    "\n",
    "from mpl_toolkits.mplot3d import Axes3D\n",
    "%matplotlib inline"
   ]
  },
  {
   "cell_type": "code",
   "execution_count": 22,
   "metadata": {},
   "outputs": [],
   "source": [
    "# List all file in the dataset directory\n",
    "# ------------------\n",
    "all_file = []\n",
    "all_file_name = []\n",
    "content = \"\"\n",
    "\n",
    "# walk through every directory and open every .py file\n",
    "# concatenate into var string \"content\"\n",
    "for root, dirs, files in os.walk(\"dataset\"): \n",
    "    for name in files:\n",
    "        if name.endswith(('.py')): # we only care about .py\n",
    "            all_file.append(name)\n",
    "            with open(os.path.join(root,name), \"r\") as f:\n",
    "                content += f.read() + \"\\n\"\n",
    "# -----------------\n",
    "            \n",
    "#all_file = os.listdir(\"dataset\")\n",
    "# Filter : Select only c file\n",
    "# all_file_name = np.array([f for f in all_file if f.find(\".py\") != -1])\n",
    "# print(all_file_name)\n",
    "\n",
    "\n",
    "# for name in all_file_name:\n",
    "#     for root, dirs, files in os.walk(\"dataset\"):\n",
    "#         for d in dirs:\n",
    "#             with open(os.path.join(d, name), \"r\") as f:\n",
    "#                 content += f.read() + \"\\n\"\n",
    "\n",
    "# ----------------\n",
    "\n",
    "# Convert the string \"content\" into a list of intergers\n",
    "vocab = set(content) # creates a set of the  individual characters\n",
    "vocab_to_int = {c: i for i, c in enumerate(vocab)} # use the set to sequentially generate a dictionary\n",
    "int_to_vocab = dict(enumerate(vocab)) # make keys the numerical values\n",
    "encoded = np.array([vocab_to_int[c] for c in content], dtype=np.int32) # encode the \"content\" string using dict"
   ]
  },
  {
   "cell_type": "code",
   "execution_count": 29,
   "metadata": {},
   "outputs": [
    {
     "name": "stdout",
     "output_type": "stream",
     "text": [
      "{0: 'a', 1: '$', 2: 'd', 3: '/', 4: 'E', 5: 'ü', 6: '`', 7: '𐀏', 8: '~', 9: 'h', 10: '}', 11: '\\n', 12: '\\xa0', 13: 'V', 14: '%', 15: 'y', 16: 'w', 17: '（', 18: 'ł', 19: ';', 20: 'L', 21: 'r', 22: 'C', 23: 'Å', 24: 'b', 25: 'F', 26: '4', 27: 'P', 28: '到', 29: 'J', 30: 'T', 31: '|', 32: '^', 33: 'R', 34: '.', 35: 'I', 36: '{', 37: '！', 38: 'K', 39: '5', 40: 'ã', 41: 'z', 42: 'g', 43: 'm', 44: '‘', 45: '🤓', 46: 'f', 47: '\\u202c', 48: 'µ', 49: 'Y', 50: '!', 51: '：', 52: 'i', 53: '≥', 54: 'p', 55: 'X', 56: '(', 57: '2', 58: '½', 59: ']', 60: '维', 61: 'G', 62: '−', 63: 'x', 64: ',', 65: 'S', 66: '≤', 67: ':', 68: '_', 69: 'c', 70: '&', 71: '>', 72: ')', 73: '度', 74: 'U', 75: '\\t', 76: '*', 77: '午', 78: 't', 79: '<', 80: '\"', 81: '=', 82: '0', 83: '达', 84: 'Z', 85: 'O', 86: '²', 87: 'q', 88: '-', 89: 'o', 90: '6', 91: 'Q', 92: '×', 93: 'u', 94: '\\\\', 95: '，', 96: '@', 97: '）', 98: '精', 99: '下', 100: 'H', 101: '8', 102: '£', 103: 'v', 104: 'A', 105: '3', 106: 'j', 107: '7', 108: '’', 109: '[', 110: '😁', 111: '#', 112: \"'\", 113: 'n', 114: '1', 115: 'W', 116: 'ᐃ', 117: 'e', 118: 's', 119: 'B', 120: '→', 121: 'N', 122: 'k', 123: '≠', 124: 'l', 125: '–', 126: 'D', 127: '√', 128: '9', 129: 'M', 130: '?', 131: ' ', 132: '+'}\n",
      "[111  50   3 ...  72  11  11]\n"
     ]
    }
   ],
   "source": [
    "print(int_to_vocab)\n",
    "# this is all of the files concatenated. with each character encoded using the int_to_vocab\n",
    "print(encoded)"
   ]
  }
 ],
 "metadata": {
  "kernelspec": {
   "display_name": "Python 3",
   "language": "python",
   "name": "python3"
  },
  "language_info": {
   "codemirror_mode": {
    "name": "ipython",
    "version": 3
   },
   "file_extension": ".py",
   "mimetype": "text/x-python",
   "name": "python",
   "nbconvert_exporter": "python",
   "pygments_lexer": "ipython3",
   "version": "3.7.4"
  }
 },
 "nbformat": 4,
 "nbformat_minor": 2
}
